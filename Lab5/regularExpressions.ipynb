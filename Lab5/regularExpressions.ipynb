{
 "cells": [
  {
   "cell_type": "code",
   "execution_count": 5,
   "metadata": {},
   "outputs": [
    {
     "name": "stdout",
     "output_type": "stream",
     "text": [
      "ДУБЛИКАТ\n",
      "Филиал ТОО EUROPHARMA Астана\n",
      "Касса 300-189\n",
      "Смена 10\n",
      "Порядковый номер чека №64\n",
      "Кассир Аптека 17-1\n",
      "ПРОДАЖА\n",
      "Натрия хлорид 0,9%, 200 мл, фл\n",
      "Система для инфузии Vogt Medical\n",
      "Naturella прокладки Классик макси №8\n",
      "AURA Ватные диски №150\n",
      "Чистая линия скраб мягкий 50 мл\n",
      "Чистая линия  скраб очищающийабрикос 50 мл\n",
      "Чистая линия скраб мягкий 50 мл\n",
      "Carefree салфетки Алоэвоздухопроницаемые №20\n",
      "Pro Series Шампунь яркий цвет 500мл\n",
      "Pro Series бальзам-ополаскивательдля длител ухода за окрашеннымиволосами Яркий цвет 500мл\n",
      "Clear шампунь Актив спорт 2в1мужской  400 мл\n",
      "Bio World (HYDRO THERAPY)Мицеллярная вода 5в1, 445мл\n",
      "Bio World (HYDRO THERAPY) Гель-муссдля умывания с гиалуроновойкислотой, 250мл\n",
      "[RX]-Натрия хлорид 0,9%, 100 мл, фл.\n",
      "Тагансорбент с иономи серебра №30,пор.\n",
      "[RX]-Церукал 2%, 2 мл, №10, амп.\n",
      "[RX]-Андазол 200 мг, №40, табл.\n",
      "Банковская карта:\n",
      "Фискальный признак:\n",
      "г. Нур-султан,Казахстан, Мангилик Ел,19, нп-5\n",
      "Оператор фискальных данных: АО\"Казахтелеком\"Для проверки чека зайдите на сайт:consumer.oofd.kz\n",
      "ФИСКАЛЬНЫЙ ЧЕК\n",
      "WEBKASSA.KZ\n"
     ]
    }
   ],
   "source": [
    "import re\n",
    "\n",
    "def parser(line):\n",
    "    pattern = r'[aа]+[bб]*'\n",
    "    return bool(re.search(pattern, line, re.IGNORECASE))\n",
    "\n",
    "with open('row.txt', 'r') as file:\n",
    "    for line in file:\n",
    "        line = line.strip()\n",
    "        if parser(line):\n",
    "            print(line)"
   ]
  },
  {
   "cell_type": "code",
   "execution_count": 9,
   "metadata": {},
   "outputs": [
    {
     "name": "stdout",
     "output_type": "stream",
     "text": [
      "aabb\n",
      "abb\n"
     ]
    }
   ],
   "source": [
    "def parser(line):\n",
    "    pattern = r'abb|abbb'\n",
    "    return bool(re.search(pattern, line, re.IGNORECASE))\n",
    "\n",
    "file = ['a', 'aabb', 'abb']\n",
    "for line in file:\n",
    "    if parser(line):\n",
    "        print(line)"
   ]
  },
  {
   "cell_type": "code",
   "execution_count": null,
   "metadata": {},
   "outputs": [
    {
     "name": "stdout",
     "output_type": "stream",
     "text": [
      "['hello_world']\n",
      "[]\n",
      "['snake_case']\n",
      "[]\n",
      "['no_underscore']\n",
      "[]\n",
      "[]\n",
      "['simple_example', 'test_case', 'another_one']\n"
     ]
    }
   ],
   "source": [
    "def parser(line):\n",
    "    pattern = r'\\b[a-z]+_[a-z]+\\b'\n",
    "    return re.findall(pattern, line)\n",
    "\n",
    "test_strings = [\n",
    "    \"hello_world\",   \n",
    "    \"this_is_a_test\", \n",
    "    \"snake_case\",   \n",
    "    \"Upper_Case\",  \n",
    "    \"no_underscore\",\n",
    "    \"test_\",\n",
    "    \"test1_test\",\n",
    "    \"simple_example test_case another_one\"\n",
    "]\n",
    "\n",
    "for line in test_strings:\n",
    "    print(parser(line))"
   ]
  },
  {
   "cell_type": "code",
   "execution_count": null,
   "metadata": {},
   "outputs": [
    {
     "name": "stdout",
     "output_type": "stream",
     "text": [
      "[]\n",
      "[]\n",
      "[]\n",
      "['Upper', 'Case']\n",
      "['Up', 'Io', 'Oppppp']\n"
     ]
    }
   ],
   "source": [
    "def parser(line):\n",
    "    pattern = r'[A-Z][a-z]+'\n",
    "    return re.findall(pattern, line)\n",
    "\n",
    "test_strings = [\n",
    "    \"hello_world\",   \n",
    "    \"this_is_a_test\", \n",
    "    \"snake_case\",   \n",
    "    \"Upper_Case\",  \n",
    "    \"UpIoOppppp\"\n",
    "]\n",
    "for line in test_strings:\n",
    "    print(parser(line))"
   ]
  },
  {
   "cell_type": "code",
   "execution_count": 21,
   "metadata": {},
   "outputs": [
    {
     "name": "stdout",
     "output_type": "stream",
     "text": [
      "aello_worlb\n",
      "abbbmkdmb\n"
     ]
    }
   ],
   "source": [
    "def parser(line):\n",
    "    pattern = r'a.*b$'\n",
    "    return bool(re.search(pattern, line))\n",
    "\n",
    "test_strings = [\n",
    "    \"aello_worlb\",   \n",
    "    \"this_is_a_test\", \n",
    "    \"snake_case\",   \n",
    "    \"Upper_Case\",  \n",
    "    \"UpIoOppppp\",\n",
    "    \"abbbmkdmb\"\n",
    "]\n",
    "for line in test_strings:\n",
    "    if parser(line):\n",
    "        print(line)"
   ]
  },
  {
   "cell_type": "code",
   "execution_count": 23,
   "metadata": {},
   "outputs": [
    {
     "name": "stdout",
     "output_type": "stream",
     "text": [
      "aello:worlb\n",
      "this_is_a_test\n",
      "snake_case\n",
      "Upper_Case\n",
      "UpIo:Oppppp\n",
      "abbbmkdmb\n"
     ]
    }
   ],
   "source": [
    "def parser(line):\n",
    "    pattern = r'[ .,]'\n",
    "    return re.sub(pattern, ':', line)\n",
    "\n",
    "test_strings = [\n",
    "    \"aello.worlb\",   \n",
    "    \"this_is_a_test\", \n",
    "    \"snake_case\",   \n",
    "    \"Upper_Case\",  \n",
    "    \"UpIo Oppppp\",\n",
    "    \"abbbmkdmb\"\n",
    "]\n",
    "for line in test_strings:\n",
    "    print(parser(line))"
   ]
  },
  {
   "cell_type": "code",
   "execution_count": null,
   "metadata": {},
   "outputs": [
    {
     "name": "stdout",
     "output_type": "stream",
     "text": [
      "aello.worlb\n",
      "thisIsATest\n",
      "snakeCase\n",
      "UpperCase\n",
      "UpIo Oppppp\n",
      "abbbmkdmb\n"
     ]
    }
   ],
   "source": [
    "def parser(line):\n",
    "    pattern = r'_([a-zA-Z])'\n",
    "    return re.sub(pattern, lambda x: x.group(1).upper(),line)\n",
    "\n",
    "test_strings = [\n",
    "    \"aello.worlb\",   \n",
    "    \"this_is_a_test\", \n",
    "    \"snake_case\",   \n",
    "    \"Upper_Case\",  \n",
    "    \"UpIo Oppppp\",\n",
    "    \"abbbmkdmb\"\n",
    "]\n",
    "for line in test_strings:\n",
    "    print(parser(line))"
   ]
  },
  {
   "cell_type": "code",
   "execution_count": null,
   "metadata": {},
   "outputs": [
    {
     "name": "stdout",
     "output_type": "stream",
     "text": [
      "['aello', 'Worlb']\n",
      "['this_is_a_test']\n",
      "['snakecase']\n",
      "['', 'Upper', 'Case']\n",
      "['', 'Up', 'Io', 'Oppppp']\n",
      "['abbbmkdmb']\n"
     ]
    }
   ],
   "source": [
    "# Spliting Upper case words in sentence\n",
    "def parser(line):\n",
    "    pattern = r'(?=[A-Z])'\n",
    "    return re.split(pattern, line)\n",
    "\n",
    "test_strings = [\n",
    "    \"aelloWorlb\",   \n",
    "    \"this_is_a_test\", \n",
    "    \"snakecase\",   \n",
    "    \"UpperCase\",  \n",
    "    \"UpIoOppppp\",\n",
    "    \"abbbmkdmb\"\n",
    "]\n",
    "for line in test_strings:\n",
    "    print(parser(line.strip()))"
   ]
  },
  {
   "cell_type": "code",
   "execution_count": null,
   "metadata": {},
   "outputs": [
    {
     "name": "stdout",
     "output_type": "stream",
     "text": [
      "aello Worlb\n",
      "this_is_a_test\n",
      "Snake Case\n",
      "Upper Case\n",
      "Up Io Oppppp\n",
      "abbbmkdmb\n"
     ]
    }
   ],
   "source": [
    "# Spliting to uppercase words\n",
    "def parser(line):\n",
    "    pattern = r'(?<!^)(?=[A-Z])'\n",
    "    return re.sub(pattern, ' ', line)\n",
    "\n",
    "test_strings = [\n",
    "    \"aelloWorlb\",   \n",
    "    \"this_is_a_test\", \n",
    "    \"SnakeCase\",   \n",
    "    \"UpperCase\",  \n",
    "    \"UpIoOppppp\",\n",
    "    \"abbbmkdmb\"\n",
    "]\n",
    "for line in test_strings:\n",
    "    print(parser(line.strip()))"
   ]
  },
  {
   "cell_type": "code",
   "execution_count": null,
   "metadata": {},
   "outputs": [
    {
     "name": "stdout",
     "output_type": "stream",
     "text": [
      "aello_worlb\n",
      "this_is_a_test\n",
      "snake_case\n",
      "upper_case\n",
      "up_io_oppppp\n",
      "abbbmkdmb\n"
     ]
    }
   ],
   "source": [
    "# Camel to snake case\n",
    "def parser(line):\n",
    "    pattern = r'(?<!^)(?=[A-Z])'\n",
    "    return re.sub(pattern, '_', line).lower()\n",
    "\n",
    "test_strings = [\n",
    "    \"aelloWorlb\",   \n",
    "    \"this_is_a_test\", \n",
    "    \"SnakeCase\",   \n",
    "    \"UpperCase\",  \n",
    "    \"UpIoOppppp\",\n",
    "    \"abbbmkdmb\"\n",
    "]\n",
    "for line in test_strings:\n",
    "    print(parser(line.strip()))"
   ]
  }
 ],
 "metadata": {
  "kernelspec": {
   "display_name": ".venv",
   "language": "python",
   "name": "python3"
  },
  "language_info": {
   "codemirror_mode": {
    "name": "ipython",
    "version": 3
   },
   "file_extension": ".py",
   "mimetype": "text/x-python",
   "name": "python",
   "nbconvert_exporter": "python",
   "pygments_lexer": "ipython3",
   "version": "3.11.9"
  }
 },
 "nbformat": 4,
 "nbformat_minor": 2
}
