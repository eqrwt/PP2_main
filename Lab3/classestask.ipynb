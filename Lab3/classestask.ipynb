{
 "cells": [
  {
   "cell_type": "code",
   "execution_count": 1,
   "metadata": {},
   "outputs": [
    {
     "name": "stdout",
     "output_type": "stream",
     "text": [
      "Upper case OLALALAL\n"
     ]
    }
   ],
   "source": [
    "class Myclass:\n",
    "    def getString(self):\n",
    "        self.s = input(\"Inout string:\")\n",
    "    def printString(self):\n",
    "        print(f'Upper case {self.s.upper()}')\n",
    "\n",
    "myString = Myclass()\n",
    "myString.getString()\n",
    "myString.printString()"
   ]
  },
  {
   "cell_type": "code",
   "execution_count": null,
   "metadata": {},
   "outputs": [
    {
     "name": "stdout",
     "output_type": "stream",
     "text": [
      "Square area: 25.0\n",
      "0\n"
     ]
    }
   ],
   "source": [
    "class Shape():\n",
    "    def area(self):\n",
    "        return 0\n",
    "\n",
    "class Square(Shape):\n",
    "    def __init__(self, length):\n",
    "        self.length = length\n",
    "    def area(self):\n",
    "        return self.length * self.length\n",
    "\n",
    "class Rectangle(Shape):\n",
    "    def __init__(self, length, width):\n",
    "        self.length = length\n",
    "        self.width = width\n",
    "    def area(self):\n",
    "        return self.length * self.width\n",
    "        \n",
    "    \n",
    "b = float(input(\"Input length:\"))\n",
    "msquare = Square(b)\n",
    "print(f\"Square area: {msquare.area()}\")\n",
    "myshape=Shape()\n",
    "print(myshape.area())\n"
   ]
  },
  {
   "cell_type": "code",
   "execution_count": 3,
   "metadata": {},
   "outputs": [
    {
     "name": "stdout",
     "output_type": "stream",
     "text": [
      "5.0\n"
     ]
    }
   ],
   "source": [
    "import math\n",
    "class Point:\n",
    "    def __init__(self, x, y):\n",
    "        self.x = x\n",
    "        self.y = y\n",
    "\n",
    "    def show(self):\n",
    "        print(f'Cordinates of the points: {self.x}, {self.y}')\n",
    "    \n",
    "    def move(self, new_x, new_y):\n",
    "        self.x = new_x\n",
    "        self.y = new_y\n",
    "\n",
    "    def distance(self, point2):\n",
    "        return math.sqrt(abs(self.x - point2.x)**2 + abs(self.y - point2.y)**2)\n",
    "\n",
    "point1 = Point(3, 4)\n",
    "point2 = Point(6, 8)\n",
    "\n",
    "print(point1.distance(point2))\n"
   ]
  },
  {
   "cell_type": "code",
   "execution_count": null,
   "metadata": {},
   "outputs": [],
   "source": [
    "class Account:\n",
    "    def __init__(self, account, balance):\n",
    "        self.account = account\n",
    "        self.balance = balance\n",
    "    \n",
    "    def balance(self):\n",
    "        print(self.balance)\n",
    "    \n",
    "    def owner(self):\n",
    "        print(self.account)\n",
    "    \n",
    "    def deposit(self, money):\n",
    "        self.balance += money\n",
    "        print(f\"Money added {money}, balance in account: {self.balance}\")\n",
    "\n",
    "    def withdraw(self, money):\n",
    "        if self.balance - money < 0:\n",
    "            print(\"Not enough money\")\n",
    "        else:\n",
    "            self.balance -= money\n",
    "            print(f'{self.account} has {self.balance} in bank account money taken: {money}')\n"
   ]
  },
  {
   "cell_type": "code",
   "execution_count": 4,
   "metadata": {},
   "outputs": [
    {
     "name": "stdout",
     "output_type": "stream",
     "text": [
      "[3, 5]\n"
     ]
    }
   ],
   "source": [
    "class Prime:\n",
    "    def __init__(self, nums):\n",
    "        self.nums = nums\n",
    "    \n",
    "    def is_prime(self, num):\n",
    "        if num < 2:\n",
    "            return False\n",
    "        for i in range(2, int(num**0.5)+1):\n",
    "            if num % i == 0:\n",
    "                return False\n",
    "        return True\n",
    "    \n",
    "    def filter_primes(self):\n",
    "        return list(filter(lambda x: self.is_prime(x), self.nums))\n",
    "\n",
    "primes = Prime([1, 4, 3, 5, 9])\n",
    "print(primes.filter_primes())"
   ]
  }
 ],
 "metadata": {
  "kernelspec": {
   "display_name": ".venv",
   "language": "python",
   "name": "python3"
  },
  "language_info": {
   "codemirror_mode": {
    "name": "ipython",
    "version": 3
   },
   "file_extension": ".py",
   "mimetype": "text/x-python",
   "name": "python",
   "nbconvert_exporter": "python",
   "pygments_lexer": "ipython3",
   "version": "3.11.9"
  }
 },
 "nbformat": 4,
 "nbformat_minor": 2
}
