{
 "cells": [
  {
   "cell_type": "code",
   "execution_count": 2,
   "metadata": {},
   "outputs": [
    {
     "name": "stdout",
     "output_type": "stream",
     "text": [
      "Squares number of array\n",
      "1 4 9 16\n"
     ]
    }
   ],
   "source": [
    "def square_array(N):\n",
    "    for i in range(1, N+1):\n",
    "        yield i**2\n",
    "\n",
    "N = int(input())\n",
    "nums = square_array(N)\n",
    "print(\"Squares number of array\")\n",
    "print(*nums)"
   ]
  },
  {
   "cell_type": "code",
   "execution_count": 4,
   "metadata": {},
   "outputs": [
    {
     "name": "stdout",
     "output_type": "stream",
     "text": [
      "2,4,6,8\n"
     ]
    }
   ],
   "source": [
    "def even_array(N):\n",
    "    for i in range(2, N+1, 2):\n",
    "        yield i\n",
    "\n",
    "num = int(input())\n",
    "array = even_array(num)\n",
    "print(*array, sep=',')"
   ]
  },
  {
   "cell_type": "code",
   "execution_count": null,
   "metadata": {},
   "outputs": [
    {
     "name": "stdout",
     "output_type": "stream",
     "text": [
      "0 12\n"
     ]
    }
   ],
   "source": [
    "def divisible_by_number(n):\n",
    "    for j in range(n+1):\n",
    "        if j % 3 == 0 and j % 4 == 0:\n",
    "            yield j\n",
    "\n",
    "m = int(input())\n",
    "mas = divisible_by_number(m)\n",
    "print(*mas)"
   ]
  },
  {
   "cell_type": "code",
   "execution_count": null,
   "metadata": {},
   "outputs": [],
   "source": [
    "def squares(a, b):\n",
    "    for i in range(a, b + 1):\n",
    "        yield i ** 2\n",
    "\n",
    "a = int(input())\n",
    "b = int(input())\n",
    "\n",
    "print(f\"Squares of numbers from {a} to {b}:\")\n",
    "for square in squares(a, b):\n",
    "    print(square)"
   ]
  },
  {
   "cell_type": "code",
   "execution_count": 11,
   "metadata": {},
   "outputs": [
    {
     "name": "stdout",
     "output_type": "stream",
     "text": [
      "9,8,7,6,5,4,3,2,1,0,"
     ]
    }
   ],
   "source": [
    "def reverse(n):\n",
    "    for j in range(n, -1, -1):\n",
    "        yield j\n",
    "\n",
    "nn = int(input())\n",
    "for number in reverse(nn):\n",
    "    print(number, end = ',')\n"
   ]
  }
 ],
 "metadata": {
  "kernelspec": {
   "display_name": ".venv",
   "language": "python",
   "name": "python3"
  },
  "language_info": {
   "codemirror_mode": {
    "name": "ipython",
    "version": 3
   },
   "file_extension": ".py",
   "mimetype": "text/x-python",
   "name": "python",
   "nbconvert_exporter": "python",
   "pygments_lexer": "ipython3",
   "version": "3.11.9"
  }
 },
 "nbformat": 4,
 "nbformat_minor": 2
}
