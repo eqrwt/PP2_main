{
 "cells": [
  {
   "cell_type": "code",
   "execution_count": 3,
   "metadata": {},
   "outputs": [
    {
     "name": "stdout",
     "output_type": "stream",
     "text": [
      "Current datetime 2025-02-16\n",
      "New datetime 2025-02-11\n"
     ]
    }
   ],
   "source": [
    "import datetime\n",
    "\n",
    "curr_date = datetime.datetime.now()\n",
    "\n",
    "new_date = curr_date - datetime.timedelta(days=5)\n",
    "\n",
    "print('Current datetime', curr_date.strftime('%Y-%m-%d'))\n",
    "\n",
    "print('New datetime', new_date.strftime(\"%Y-%m-%d\"))\n"
   ]
  },
  {
   "cell_type": "code",
   "execution_count": 9,
   "metadata": {},
   "outputs": [
    {
     "name": "stdout",
     "output_type": "stream",
     "text": [
      "Yesterday: 2025-02-15\n",
      "Today: 2025-02-16\n",
      "Tomorrow: 2025-02-17\n"
     ]
    }
   ],
   "source": [
    "today = datetime.datetime.now()\n",
    "\n",
    "tomorrow = today + datetime.timedelta(days=1)\n",
    "\n",
    "yesterday = today - datetime.timedelta(days=1)\n",
    "\n",
    "print('Yesterday: ' + yesterday.strftime('%Y-%m-%d'), 'Today: ' + today.strftime('%Y-%m-%d'), 'Tomorrow: ' + tomorrow.strftime('%Y-%m-%d'), sep = '\\n')"
   ]
  },
  {
   "cell_type": "code",
   "execution_count": 11,
   "metadata": {},
   "outputs": [
    {
     "name": "stdout",
     "output_type": "stream",
     "text": [
      "Current datetime:  2025-02-16 18:48:08.718725\n",
      "Without microseconds:  2025-02-16 18:48:08\n"
     ]
    }
   ],
   "source": [
    "curr_date = datetime.datetime.now()\n",
    "\n",
    "date_micro = curr_date.replace(microsecond=0)\n",
    "\n",
    "print('Current datetime: ', curr_date)\n",
    "print('Without microseconds: ', date_micro)"
   ]
  },
  {
   "cell_type": "code",
   "execution_count": 12,
   "metadata": {},
   "outputs": [
    {
     "name": "stdout",
     "output_type": "stream",
     "text": [
      "Total sconds from Date 1: 2024-12-12 10:00:00 to Date 2: 2025-02-12 10:00:00 is 5356800.0\n"
     ]
    }
   ],
   "source": [
    "date1 = datetime.datetime(2024, 12, 12, 10, 0, 0)\n",
    "\n",
    "date2 = datetime.datetime(2025, 2, 12, 10, 0, 0)\n",
    "\n",
    "diff = date2 - date1\n",
    "print(f'Total sconds from Date 1: {date1} to Date 2: {date2} is {diff.total_seconds()}')"
   ]
  }
 ],
 "metadata": {
  "kernelspec": {
   "display_name": ".venv",
   "language": "python",
   "name": "python3"
  },
  "language_info": {
   "codemirror_mode": {
    "name": "ipython",
    "version": 3
   },
   "file_extension": ".py",
   "mimetype": "text/x-python",
   "name": "python",
   "nbconvert_exporter": "python",
   "pygments_lexer": "ipython3",
   "version": "3.11.9"
  }
 },
 "nbformat": 4,
 "nbformat_minor": 2
}
