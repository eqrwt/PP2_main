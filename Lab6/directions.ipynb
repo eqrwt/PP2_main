{
 "cells": [
  {
   "cell_type": "code",
   "execution_count": 39,
   "metadata": {},
   "outputs": [
    {
     "name": "stdout",
     "output_type": "stream",
     "text": [
      "The files and directories in  . :\n",
      "demo_file.txt, Alphabet_Files, built-in.ipynb, moving_file.py, new_one, directions.ipynb\n"
     ]
    }
   ],
   "source": [
    "import os\n",
    "\n",
    "path = '.'\n",
    "\n",
    "dir_list = os.listdir(path)\n",
    "\n",
    "print(\"The files and directories in \", path, ':')\n",
    "print(*dir_list, sep = ', ')"
   ]
  },
  {
   "cell_type": "code",
   "execution_count": 9,
   "metadata": {},
   "outputs": [
    {
     "name": "stdout",
     "output_type": "stream",
     "text": [
      "Existence:  True\n",
      "Readability:  True\n",
      "Writability:  True\n",
      "Executability:  False\n"
     ]
    }
   ],
   "source": [
    "def cheker(path):\n",
    "    print(\"Existence: \", os.path.exists(path))\n",
    "    print(\"Readability: \", os.access(path, os.R_OK))\n",
    "    print(\"Writability: \", os.access(path, os.W_OK))\n",
    "    print(\"Executability: \", os.access(path, os.X_OK))\n",
    "\n",
    "path = '/Users/alimanbibolov/Documents/PP2/Lab5/row.json'\n",
    "cheker(path)\n"
   ]
  },
  {
   "cell_type": "code",
   "execution_count": 19,
   "metadata": {},
   "outputs": [
    {
     "name": "stdout",
     "output_type": "stream",
     "text": [
      "Path does not exists\n"
     ]
    }
   ],
   "source": [
    "def find_file(path):\n",
    "    if os.path.exists(path):\n",
    "        print(f\"Path exists: {path}\")\n",
    "        print(\"Directories: \", os.path.dirname(path))\n",
    "        print(\"Files: \", os.path.basename(path))\n",
    "        print(f\"Directories and files of {path}\", os.listdir(path))\n",
    "    else:\n",
    "        print(\"Path does not exists\")\n",
    "\n",
    "path = 'parser.py'\n",
    "find_file(path)"
   ]
  },
  {
   "cell_type": "code",
   "execution_count": null,
   "metadata": {},
   "outputs": [
    {
     "name": "stdout",
     "output_type": "stream",
     "text": [
      "11\n"
     ]
    }
   ],
   "source": [
    "with open('demo_file.txt', 'r') as file:\n",
    "    c = 0\n",
    "    for line in file:\n",
    "        c += 1\n",
    "    print(c)\n"
   ]
  },
  {
   "cell_type": "code",
   "execution_count": 24,
   "metadata": {},
   "outputs": [],
   "source": [
    "def write_something(lst):\n",
    "    with open('demo_file.txt', 'w') as file:\n",
    "        for line in lst:\n",
    "            file.write(str(line) + '\\n')\n",
    "\n",
    "write_something([\"mknvf\", 'mkfnv', 'vmkfnv'])"
   ]
  },
  {
   "cell_type": "code",
   "execution_count": 29,
   "metadata": {},
   "outputs": [],
   "source": [
    "import string \n",
    "def generate_file():\n",
    "    for letter in string.ascii_uppercase:\n",
    "        with open(f'{letter}.txt', 'w') as file:\n",
    "            file.write(f'This is {letter}.txt file')\n",
    "        \n",
    "generate_file()"
   ]
  },
  {
   "cell_type": "code",
   "execution_count": null,
   "metadata": {},
   "outputs": [],
   "source": [
    "def copy_file(source, destination):\n",
    "    with open(source, 'r') as src, open(destination, 'w') as dest:\n",
    "        dest.write(src.read())\n",
    "\n",
    "copy_file(\"demo_file.txt\", \"new_one\")\n"
   ]
  },
  {
   "cell_type": "code",
   "execution_count": null,
   "metadata": {},
   "outputs": [
    {
     "name": "stdout",
     "output_type": "stream",
     "text": [
      "Removing path: deleted_file.txt\n"
     ]
    }
   ],
   "source": [
    "def delete_file(path):\n",
    "    if os.path.exists(path):\n",
    "        print(f\"Removing path: {path}\")\n",
    "        os.remove(path)\n",
    "    else:\n",
    "        print(\"Not existing path\")\n",
    "\n",
    "delete_file(\"deleted_file.txt\")\n",
    "\n"
   ]
  }
 ],
 "metadata": {
  "kernelspec": {
   "display_name": ".venv",
   "language": "python",
   "name": "python3"
  },
  "language_info": {
   "codemirror_mode": {
    "name": "ipython",
    "version": 3
   },
   "file_extension": ".py",
   "mimetype": "text/x-python",
   "name": "python",
   "nbconvert_exporter": "python",
   "pygments_lexer": "ipython3",
   "version": "3.11.9"
  }
 },
 "nbformat": 4,
 "nbformat_minor": 2
}
